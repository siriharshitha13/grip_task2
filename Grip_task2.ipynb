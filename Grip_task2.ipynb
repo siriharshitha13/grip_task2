{
 "cells": [
  {
   "cell_type": "code",
   "execution_count": null,
   "id": "72e3a0d5",
   "metadata": {},
   "outputs": [],
   "source": [
    "Task2 : Prediction using unsupervised learning using iris dataset"
   ]
  },
  {
   "cell_type": "code",
   "execution_count": null,
   "id": "6b018756",
   "metadata": {},
   "outputs": [],
   "source": [
    "import pandas as pd\n",
    "import numpy as np\n",
    "import matplotlib.pyplot as mt\n",
    "from sklearn import datasets\n",
    "%matplotlib inline"
   ]
  },
  {
   "cell_type": "code",
   "execution_count": null,
   "id": "13c1f7fe",
   "metadata": {},
   "outputs": [],
   "source": [
    "iris=datasets.load_iris()\n",
    "df=pd.DataFrame(iris.data, columns=iris.feature_names)\n",
    "df.head(150)"
   ]
  },
  {
   "cell_type": "code",
   "execution_count": null,
   "id": "18eadc90",
   "metadata": {},
   "outputs": [],
   "source": [
    "x=df.iloc[:,[0,1,2,3]].values\n",
    "from sklearn.cluster import KMeans\n",
    "list=[]\n",
    "\n",
    "for i in range(1,11):\n",
    "    kmeans=KMeans(n_clusters=i, init='k-means++', max_iter=300, n_init=10, random_state=0)\n",
    "    kmeans.fit(x)\n",
    "    list.append(kmeans.inertia_)\n",
    "\n",
    "mt.plot(range(1,11),list)\n",
    "mt.title(\"The Elbow Method\")\n",
    "mt.xlabel(\"Number of Clusters\")\n",
    "mt.ylabel(\"WCSS\")\n",
    "mt.show()"
   ]
  },
  {
   "cell_type": "code",
   "execution_count": null,
   "id": "8725b6b1",
   "metadata": {},
   "outputs": [],
   "source": [
    "kmeans=KMeans(n_clusters=3, init='k-means++', max_iter=300, n_init=10, random_state=0)\n",
    "y_kmeans=kmeans.fit_predict(x)"
   ]
  },
  {
   "cell_type": "code",
   "execution_count": null,
   "id": "992f822b",
   "metadata": {},
   "outputs": [],
   "source": [
    "mt.scatter(x[y_kmeans==0,0], x[y_kmeans==0,1], s=100, c='green', label='Iris-setosa')\n",
    "mt.scatter(x[y_kmeans==1,0], x[y_kmeans==1,1], s=100, c='orange', label='Iris-versicolor')\n",
    "mt.scatter(x[y_kmeans==2,0], x[y_kmeans==2,1], s=100, c='blue', label='Iris-verginica')\n",
    "\n",
    "#plotting centriods of clusters\n",
    "mt.scatter(kmeans.cluster_centers_[:,0], kmeans.cluster_centers_[:,1], s=100, c='black', label='Centriods')\n",
    "mt.legend()"
   ]
  }
 ],
 "metadata": {
  "kernelspec": {
   "display_name": "Python 3 (ipykernel)",
   "language": "python",
   "name": "python3"
  },
  "language_info": {
   "codemirror_mode": {
    "name": "ipython",
    "version": 3
   },
   "file_extension": ".py",
   "mimetype": "text/x-python",
   "name": "python",
   "nbconvert_exporter": "python",
   "pygments_lexer": "ipython3",
   "version": "3.10.0"
  }
 },
 "nbformat": 4,
 "nbformat_minor": 5
}
